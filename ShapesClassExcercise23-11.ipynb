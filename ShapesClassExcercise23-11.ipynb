{
 "cells": [
  {
   "cell_type": "code",
   "execution_count": 3,
   "metadata": {},
   "outputs": [
    {
     "name": "stdout",
     "output_type": "stream",
     "text": [
      "4\n",
      "3\n",
      "1\n"
     ]
    }
   ],
   "source": [
    "\"\"\"Overriding Shapes\"\"\"\n",
    "class Shape:\n",
    "    def sides(self):\n",
    "        print(\"Number of Sides\")\n",
    "\n",
    "class Square(Shape):\n",
    "    def sides(self):\n",
    "        print('4')\n",
    "\n",
    "class Triangle(Shape):\n",
    "    def sides(self):\n",
    "        print('3')\n",
    "\n",
    "class Circle(Shape):\n",
    "    def sides(self):\n",
    "        print('1')\n",
    "    \n",
    "# Subclass lule\n",
    "square = Square()\n",
    "triangle = Triangle()\n",
    "circle = Circle()\n",
    "\n",
    "# Overwrite methods\n",
    "square.sides()\n",
    "triangle.sides()\n",
    "circle.sides()"
   ]
  },
  {
   "cell_type": "code",
   "execution_count": null,
   "metadata": {},
   "outputs": [],
   "source": []
  }
 ],
 "metadata": {
  "kernelspec": {
   "display_name": "Python 3",
   "language": "python",
   "name": "python3"
  },
  "language_info": {
   "codemirror_mode": {
    "name": "ipython",
    "version": 3
   },
   "file_extension": ".py",
   "mimetype": "text/x-python",
   "name": "python",
   "nbconvert_exporter": "python",
   "pygments_lexer": "ipython3",
   "version": "3.12.0"
  }
 },
 "nbformat": 4,
 "nbformat_minor": 2
}
